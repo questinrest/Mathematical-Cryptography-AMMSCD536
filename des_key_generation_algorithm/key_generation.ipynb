{
 "cells": [
  {
   "cell_type": "markdown",
   "metadata": {},
   "source": [
    "### Implementation of Key Generation is DES in all the 16 rounds"
   ]
  },
  {
   "cell_type": "code",
   "execution_count": 1,
   "metadata": {},
   "outputs": [
    {
     "name": "stdout",
     "output_type": "stream",
     "text": [
      "The subkey for round 1 is 001001111010000101101001111001011000110111011010\n",
      "The subkey for round 2 is 110110101001000111011101110101111011011101001000\n",
      "The subkey for round 3 is 000111011100001001001011111110001001011101101000\n",
      "The subkey for round 4 is 001000110101100110101110010110001111111000101110\n",
      "The subkey for round 5 is 101110000010100111000101011111000111110010111000\n",
      "The subkey for round 6 is 000100010110111000111001101010010111100001111011\n",
      "The subkey for round 7 is 110001010011010110110100101001111111101000110010\n",
      "The subkey for round 8 is 110101101000111011000101101101010000111101110110\n",
      "The subkey for round 9 is 111010000000110100110011110101110101001100010100\n",
      "The subkey for round 10 is 111001011010101000101101110100010010001111101100\n",
      "The subkey for round 11 is 100000111011011010010010111100001011101010001101\n",
      "The subkey for round 12 is 011111000001111011110010011100100011011010111111\n",
      "The subkey for round 13 is 111101101111000001001000001111110011100110101011\n",
      "The subkey for round 14 is 000010101100011101010110001001100111100101110011\n",
      "The subkey for round 15 is 011011000101100100011111011001111010100101110110\n",
      "The subkey for round 16 is 010011110101011110100000110001101100001101011011\n"
     ]
    }
   ],
   "source": [
    "# Initial 64-bit input key (as a binary string)\n",
    "input_key = '0101100000011111101111001001010011010011101001000101001011101010'\n",
    "\n",
    "# PC-1 table for Permuted Choice 1\n",
    "lookup = [\n",
    "    57, 49, 41, 33, 25, 17, 9, 1, 58, 50, 42, 34, 26, 18, \n",
    "    10, 2, 59, 51, 43, 35, 27, 19, 11, 3, 60, 52, 44, 36, \n",
    "    63, 55, 47, 39, 31, 23, 15, 7, 62, 54, 46, 38, 30, 22, \n",
    "    14, 6, 61, 53, 45, 37, 29, 21, 13, 5, 28, 20, 12, 4\n",
    "]\n",
    "\n",
    "# PC-2 table for Permuted Choice 2\n",
    "lookup2 = [\n",
    "    14, 17, 11, 24, 1, 5, 3, 28, 15, 6, 21, 10, \n",
    "    23, 19, 12, 4, 26, 8, 16, 7, 27, 20, 13, 2, \n",
    "    41, 52, 31, 37, 47, 55, 30, 40, 51, 45, 33, 48, \n",
    "    44, 49, 39, 56, 34, 53, 46, 42, 50, 36, 29, 32\n",
    "]\n",
    "\n",
    "#PC _ 1\n",
    "def PC_1(bit, lookup):\n",
    "    bit = input_key\n",
    "    bit_after_pc = []\n",
    "    for x in lookup:\n",
    "        bit_after_pc.append(bit[x-1])\n",
    "    return bit_after_pc\n",
    "\n",
    "bits = PC_1(input_key, lookup)\n",
    "C, D = bits[:28], bits[28:]\n",
    "\n",
    "# Left 1 bit shift\n",
    "def shift_1(bits):\n",
    "    return bits[1:] + [bits[0]]\n",
    "\n",
    "# Left 2 bit shift\n",
    "def shift_2(bits):\n",
    "    return bits[2:] + [bits[0], bits[1]]\n",
    "\n",
    "# subkeys\n",
    "subkey = []\n",
    "round = 1\n",
    "while round <= 16:\n",
    "    if round in [1, 2, 9, 16]:\n",
    "        C = shift_1(C)\n",
    "        D = shift_1(D)\n",
    "    else:\n",
    "        C = shift_2(C)\n",
    "        D = shift_2(D)\n",
    "    \n",
    "    combined_key = C + D\n",
    "    subkey.append(combined_key)\n",
    "    round += 1\n",
    "\n",
    "#PC-2\n",
    "def PC_2(lis, lookup2):\n",
    "    bit_after_pc = []\n",
    "    for x in lookup2:\n",
    "        bit_after_pc.append(lis[x-1])\n",
    "    string = \"\"\n",
    "    for x in bit_after_pc:\n",
    "        string += str(x)\n",
    "    return string\n",
    "\n",
    "count = 1\n",
    "for sk in subkey:\n",
    "    print(f\"The subkey for round {count} is {PC_2(sk, lookup2)}\")\n",
    "    count += 1"
   ]
  },
  {
   "cell_type": "code",
   "execution_count": null,
   "metadata": {},
   "outputs": [],
   "source": []
  }
 ],
 "metadata": {
  "kernelspec": {
   "display_name": "Python 3",
   "language": "python",
   "name": "python3"
  },
  "language_info": {
   "codemirror_mode": {
    "name": "ipython",
    "version": 3
   },
   "file_extension": ".py",
   "mimetype": "text/x-python",
   "name": "python",
   "nbconvert_exporter": "python",
   "pygments_lexer": "ipython3",
   "version": "3.12.6"
  }
 },
 "nbformat": 4,
 "nbformat_minor": 2
}
