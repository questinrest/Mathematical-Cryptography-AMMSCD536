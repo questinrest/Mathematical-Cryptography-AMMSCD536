{
 "cells": [
  {
   "cell_type": "code",
   "execution_count": 1,
   "id": "f0b4ce65-5dd3-4d31-9f0d-50d4247ac2eb",
   "metadata": {},
   "outputs": [
    {
     "name": "stdin",
     "output_type": "stream",
     "text": [
      "enter the 1st number:  7\n",
      "enter the second number:  5\n"
     ]
    },
    {
     "name": "stdout",
     "output_type": "stream",
     "text": [
      "The GCD is  1\n",
      "The quotient list is  [1, 2]\n",
      "Inverse of 7 is -2 and 5 is 3\n"
     ]
    }
   ],
   "source": [
    "#implement extended euclidean algorithm\n",
    "\n",
    "import numpy as np\n",
    "a,b = int(input(\"enter the 1st number: \")), int(input(\"enter the second number: \"))\n",
    "t1, t2 = max(a, b), min(a, b)\n",
    "a, b = max(a, b), min(a, b)\n",
    "q = []\n",
    "while b != 0:\n",
    "    if b != 1:\n",
    "        q.append(a // b)\n",
    "    a, b = b, a % b\n",
    "print(\"The GCD is \", a)\n",
    "print(\"The quotient list is \", q)\n",
    "m = np.array([[1,0],[0,1]])\n",
    "for x in range(len(q)):\n",
    "    t = m[-2] - (m[-1] * q[x]) \n",
    "    t = np.array([t])\n",
    "    m = np.vstack([m, t])\n",
    "if a == 1:   \n",
    "    print(f\"Inverse of {t1} is {m[-1][0]} and {t2} is {m[-1][-1]}\")\n",
    "else:\n",
    "    print(f\"The value of m is {m[-1][0]} and n is {m[-1][-1]}\")"
   ]
  },
  {
   "cell_type": "code",
   "execution_count": 97,
   "id": "149db07f-f436-4b68-9655-c42deb6d4c0d",
   "metadata": {},
   "outputs": [
    {
     "data": {
      "text/plain": [
       "1"
      ]
     },
     "execution_count": 97,
     "metadata": {},
     "output_type": "execute_result"
    }
   ],
   "source": [
    "97*m[-1][0] + 20*m[-1][-1]"
   ]
  },
  {
   "cell_type": "code",
   "execution_count": null,
   "id": "dc371bdc-374d-49db-8555-5cba8c771580",
   "metadata": {},
   "outputs": [],
   "source": []
  }
 ],
 "metadata": {
  "kernelspec": {
   "display_name": "Python 3 (ipykernel)",
   "language": "python",
   "name": "python3"
  },
  "language_info": {
   "codemirror_mode": {
    "name": "ipython",
    "version": 3
   },
   "file_extension": ".py",
   "mimetype": "text/x-python",
   "name": "python",
   "nbconvert_exporter": "python",
   "pygments_lexer": "ipython3",
   "version": "3.11.5"
  }
 },
 "nbformat": 4,
 "nbformat_minor": 5
}
