{
 "cells": [
  {
   "cell_type": "code",
   "execution_count": null,
   "metadata": {
    "id": "ch6i6L8RrS1d"
   },
   "outputs": [],
   "source": [
    "import numpy as np"
   ]
  },
  {
   "cell_type": "code",
   "execution_count": null,
   "metadata": {
    "id": "pYc_WJVLrZJu"
   },
   "outputs": [],
   "source": [
    "key = \"MONARCHY\"\n",
    "key1 = []\n",
    "for x in key:\n",
    "  if x not in key1:\n",
    "    key1.append(x)\n",
    "for x in range(65,91):\n",
    "  if chr(x) not in key1:\n",
    "    key1.append(chr(x))\n",
    "for x in range(48,58):\n",
    "  if chr(x) not in key1:\n",
    "    key1.append(chr(x))\n",
    "matrix = np.array(key1).reshape(6,6)"
   ]
  },
  {
   "cell_type": "code",
   "execution_count": null,
   "metadata": {
    "colab": {
     "base_uri": "https://localhost:8080/"
    },
    "id": "xC_vq2iZsIrD",
    "outputId": "9efb14c9-b03b-4614-ecbf-32b701dce030"
   },
   "outputs": [
    {
     "data": {
      "text/plain": [
       "array([['M', 'O', 'N', 'A', 'R', 'C'],\n",
       "       ['H', 'Y', 'B', 'D', 'E', 'F'],\n",
       "       ['G', 'I', 'J', 'K', 'L', 'P'],\n",
       "       ['Q', 'S', 'T', 'U', 'V', 'W'],\n",
       "       ['X', 'Z', '0', '1', '2', '3'],\n",
       "       ['4', '5', '6', '7', '8', '9']], dtype='<U1')"
      ]
     },
     "execution_count": 97,
     "metadata": {},
     "output_type": "execute_result"
    }
   ],
   "source": [
    "matrix"
   ]
  },
  {
   "cell_type": "code",
   "execution_count": null,
   "metadata": {
    "id": "ZoAc4gA9uMPG"
   },
   "outputs": [],
   "source": [
    "plain_text = \"ATTACK AT 10 PMS\"\n",
    "plain_text = list(plain_text.replace(\" \", \"\"))"
   ]
  },
  {
   "cell_type": "code",
   "execution_count": null,
   "metadata": {
    "colab": {
     "base_uri": "https://localhost:8080/"
    },
    "id": "9b3CGClsxNoR",
    "outputId": "556e36a9-600f-417d-e1c2-b4947cff06d9"
   },
   "outputs": [
    {
     "data": {
      "text/plain": [
       "['AT', 'TA', 'CK', 'AT', '10', 'PM', 'SX']"
      ]
     },
     "execution_count": 102,
     "metadata": {},
     "output_type": "execute_result"
    }
   ],
   "source": [
    "pairs = []\n",
    "if len(plain_text) %2 == 0:\n",
    "  i = 0\n",
    "  while i < len(plain_text) -1 :\n",
    "    if plain_text[i] == plain_text[i+1]:\n",
    "      pairs.append(plain_text[i] + \"X\")\n",
    "      i += 1\n",
    "    else:\n",
    "      pairs.append(plain_text[i] + plain_text[i+1])\n",
    "      i += 2\n",
    "  if i == len(plain_text) - 1:\n",
    "    pairs.append(plain_text[i] + \"X\")\n",
    "else:\n",
    "  plain_text.append(\"X\")\n",
    "  i = 0\n",
    "  while i < len(plain_text) - 1:\n",
    "    if plain_text[i] == plain_text[i+1]:\n",
    "      pairs.append(plain_text[i] + \"X\")\n",
    "      i += 1\n",
    "    else:\n",
    "      pairs.append(plain_text[i] + plain_text[i+1])\n",
    "      i += 2\n",
    "  if i == len(plain_text) - 1:\n",
    "    pairs.append(plain_text[i] + \"X\")\n",
    "pairs"
   ]
  },
  {
   "cell_type": "code",
   "execution_count": null,
   "metadata": {
    "id": "vzVUZd0MXAvq"
   },
   "outputs": [],
   "source": [
    "## same rows\n",
    "result = []\n",
    "for i in range(6):\n",
    "  for x in pairs:\n",
    "    if x[0] in arr[i] and x[1] in arr[i]:\n",
    "      in1 = arr[i].index(x[0])\n",
    "      in2 = arr[i].index(x[1])\n",
    "      if in1 == 5:\n",
    "        result.append(arr[i][0] + arr[i][in2 + 1])\n",
    "      elif in2 == 5:\n",
    "        result.append(arr[i][in1 + 1] + arr[i][0])\n",
    "      else:\n",
    "        result.append(arr[i][in1 + 1] + arr[i][in2 + 1])\n",
    "## same columns\n",
    "new = []\n",
    "arrT = matrix.transpose()\n",
    "for x in arrT:\n",
    "  new.append(list(x))\n",
    "for i in range(6):\n",
    "  for x in pairs:\n",
    "    if x[0] in new[i] and x[1] in new[i]:\n",
    "      in1 = new[i].index(x[0])\n",
    "      in2 = new[i].index(x[1])\n",
    "      if in1 == 5:\n",
    "        result.append(new[i][0] + new[i][in2 + 1])\n",
    "      elif in2 == 5:\n",
    "        result.append(new[i][in1 + 1] + new[i][0])\n",
    "      else:\n",
    "        result.append(new[i][in1 + 1] + new[i][in2 + 1])\n",
    "##else condition\n",
    "for i in range(6):\n",
    "  for x in pairs:\n",
    "    if x[0] in arr[i] and x[1] not in arr[i]:\n",
    "      in1 = arr[i].index(x[0])\n",
    "      for z in range(6):\n",
    "        if x[1] in arr[z]:\n",
    "          in2 = arr[z].index(x[1])\n",
    "          result.append(arr[i][in2] + arr[z][in1])\n",
    "\n",
    "\n",
    "\n",
    "\n",
    "\n"
   ]
  },
  {
   "cell_type": "code",
   "execution_count": null,
   "metadata": {
    "colab": {
     "base_uri": "https://localhost:8080/"
    },
    "id": "At-wjcf-3tnq",
    "outputId": "ca775867-3fee-46e2-e5dd-39536436c52f"
   },
   "outputs": [
    {
     "data": {
      "text/plain": [
       "array([['M', 'O', 'N', 'A', 'R', 'C'],\n",
       "       ['H', 'Y', 'B', 'D', 'E', 'F'],\n",
       "       ['G', 'I', 'J', 'K', 'L', 'P'],\n",
       "       ['Q', 'S', 'T', 'U', 'V', 'W'],\n",
       "       ['X', 'Z', '0', '1', '2', '3'],\n",
       "       ['4', '5', '6', '7', '8', '9']], dtype='<U1')"
      ]
     },
     "execution_count": 93,
     "metadata": {},
     "output_type": "execute_result"
    }
   ],
   "source": [
    "matrix"
   ]
  },
  {
   "cell_type": "code",
   "execution_count": null,
   "metadata": {
    "colab": {
     "base_uri": "https://localhost:8080/"
    },
    "id": "qKl23iUK3xqQ",
    "outputId": "ec2281b1-6cd5-46af-d7f7-1a31ac72d4d6"
   },
   "outputs": [
    {
     "data": {
      "text/plain": [
       "['AT', 'TA', 'CK', 'AT', '10', 'PM', 'SX']"
      ]
     },
     "execution_count": 94,
     "metadata": {},
     "output_type": "execute_result"
    }
   ],
   "source": [
    "pairs"
   ]
  },
  {
   "cell_type": "code",
   "execution_count": null,
   "metadata": {
    "colab": {
     "base_uri": "https://localhost:8080/"
    },
    "id": "JoxxPHeUynM8",
    "outputId": "7db2bc58-c993-47bd-b7d5-ce8a4d52b238"
   },
   "outputs": [
    {
     "name": "stdout",
     "output_type": "stream",
     "text": [
      "['N7', 'U6', 'A9', 'N7', 'G9', 'Q5']\n"
     ]
    }
   ],
   "source": [
    "result1 = []\n",
    "arr = []\n",
    "new = []\n",
    "for x in matrix:\n",
    "  arr.append(list(x))\n",
    "arrT = matrix.transpose()\n",
    "for x in arrT:\n",
    "  new.append(list(x))\n",
    "for x in range(len(pairs)):\n",
    "  for i in range(6):\n",
    "    if pairs[x][0] in arr[i] and pairs[x][1] in arr[i]:\n",
    "      in1 = arr[i].index(pairs[x][0])\n",
    "      in2 = arr[i].index(pairs[x][1])\n",
    "      if in1 == 5:\n",
    "        result.append(arr[i][0] + arr[i][in2 + 1])\n",
    "      elif in2 == 5:\n",
    "        result.append(arr[i][in1 + 1] + arr[i][0])\n",
    "      else:\n",
    "        result.append(arr[i][in1 + 1] + arr[i][in2 + 1])\n",
    "    elif pairs[x][0] in arr[i] and pairs[x][1] not in arr[i]:\n",
    "      in2 = arr[i].index(pairs[x][0])\n",
    "      for z in range(6):\n",
    "        if pairs[x][1] in arr[z]:\n",
    "          in1 = arr[z].index(pairs[x][1])\n",
    "      result1.append(arr[i][in1] + arr[z][in2])\n",
    "    else:\n",
    "      for z in range(6):\n",
    "        if pairs[x][0] in new[i] and pairs[x][1] in new[i]:\n",
    "          in1 = new[i].index(pairs[x][0])\n",
    "          in2 = new[i].index(pairs[x][1])\n",
    "          if in1 == 5:\n",
    "            result.append(new[i][0] + new[i][in2 + 1])\n",
    "          elif in2 == 5:\n",
    "            result.append(new[i][in1 + 1] + new[i][0])\n",
    "          else:\n",
    "            result.append(new[i][in1 + 1] + new[i][in2 + 1])\n",
    "print(result1)\n",
    "\n",
    "\n",
    "\n",
    "\n"
   ]
  },
  {
   "cell_type": "code",
   "execution_count": 12,
   "metadata": {
    "colab": {
     "base_uri": "https://localhost:8080/"
    },
    "id": "zOhw49VG84Py",
    "outputId": "64b9a38f-4932-4608-fe7a-19108b8b26e4"
   },
   "outputs": [
    {
     "name": "stdout",
     "output_type": "stream",
     "text": [
      "Playfair Matrix is :\n",
      " [['M' 'O' 'N' 'A' 'R' 'C']\n",
      " ['H' 'Y' '1' '2' '3' '4']\n",
      " ['B' 'D' 'E' 'F' 'G' 'I']\n",
      " ['J' 'K' 'L' 'P' 'Q' 'S']\n",
      " ['T' 'U' 'V' 'W' 'X' 'Z']\n",
      " ['0' '5' '6' '7' '8' '9']]\n",
      "Pairs: ['HE', 'LX', 'LO', '12', '34']\n",
      "Encrypted Text is: ['1B', 'QV', 'KN', '23', '4H']\n",
      "Decrypted Text is: ['HE', 'LX', 'LO', '12', '34']\n"
     ]
    }
   ],
   "source": [
    "import numpy as np\n",
    "\n",
    "# matrix create\n",
    "key = \"MONARCCHY1234\"\n",
    "key1 = []\n",
    "\n",
    "for x in key:\n",
    "    if x not in key1:\n",
    "        key1.append(x)\n",
    "\n",
    "# Filling the matrix \n",
    "for x in range(65, 91):  # A-Z\n",
    "    if chr(x) not in key1:\n",
    "        key1.append(chr(x))\n",
    "for x in range(48, 58):  # 0-9\n",
    "    if chr(x) not in key1:\n",
    "        key1.append(chr(x))\n",
    "\n",
    "matrix = np.array(key1).reshape(6, 6)\n",
    "print(\"Playfair Matrix is :\\n\", matrix)\n",
    "\n",
    "# processing plain text\n",
    "plain_text = \"HELLO 1234\"\n",
    "plain_text = list(plain_text.replace(\" \", \"\"))\n",
    "pairs = []\n",
    "i = 0\n",
    "while i < len(plain_text):\n",
    "    if i == len(plain_text) - 1:  # Last character handling\n",
    "        pairs.append(plain_text[i] + \"X\")\n",
    "        i += 1\n",
    "    elif plain_text[i] == plain_text[i + 1]:  # Double letter handling\n",
    "        pairs.append(plain_text[i] + \"X\")\n",
    "        i += 1\n",
    "    else:\n",
    "        pairs.append(plain_text[i] + plain_text[i + 1])\n",
    "        i += 2\n",
    "\n",
    "print(\"Pairs:\", pairs)\n",
    "\n",
    "# encrypt\n",
    "result1 = []\n",
    "arr = [list(x) for x in matrix]\n",
    "arrT = [list(x) for x in matrix.T]\n",
    "\n",
    "for pair in pairs:\n",
    "    for i in range(6):\n",
    "        # same row\n",
    "        if pair[0] in arr[i] and pair[1] in arr[i]:\n",
    "            in1 = arr[i].index(pair[0])\n",
    "            in2 = arr[i].index(pair[1])\n",
    "            result1.append(arr[i][(in1 + 1) % 6] + arr[i][(in2 + 1) % 6])\n",
    "            break\n",
    "        # same column\n",
    "        elif pair[0] in arrT[i] and pair[1] in arrT[i]:\n",
    "            in1 = arrT[i].index(pair[0])\n",
    "            in2 = arrT[i].index(pair[1])\n",
    "            result1.append(arrT[i][(in1 + 1) % 6] + arrT[i][(in2 + 1) % 6])\n",
    "            break\n",
    "        # intersection\n",
    "        elif pair[0] in arr[i]:\n",
    "            in1 = arr[i].index(pair[0])\n",
    "            for j in range(6):\n",
    "                if pair[1] in arr[j]:\n",
    "                    in2 = arr[j].index(pair[1])\n",
    "                    result1.append(arr[i][in2] + arr[j][in1])\n",
    "                    break\n",
    "#decrypt\n",
    "result2 = []\n",
    "for pair in result1:\n",
    "    for i in range(6):\n",
    "        # same row\n",
    "        if pair[0] in arr[i] and pair[1] in arr[i]:\n",
    "            in1 = arr[i].index(pair[0])\n",
    "            in2 = arr[i].index(pair[1])\n",
    "            result2.append(arr[i][(in1 - 1) % 6] + arr[i][(in2 - 1) % 6])\n",
    "            break\n",
    "        # same column\n",
    "        elif pair[0] in arrT[i] and pair[1] in arrT[i]:\n",
    "            in1 = arrT[i].index(pair[0])\n",
    "            in2 = arrT[i].index(pair[1])\n",
    "            result2.append(arrT[i][(in1 - 1) % 6] + arrT[i][(in2 - 1) % 6])\n",
    "            break\n",
    "        # intersection\n",
    "        elif pair[0] in arr[i]:\n",
    "            in1 = arr[i].index(pair[0])\n",
    "            for j in range(6):\n",
    "                if pair[1] in arr[j]:\n",
    "                    in2 = arr[j].index(pair[1])\n",
    "                    result2.append(arr[i][in2] + arr[j][in1])\n",
    "                    break\n",
    "\n",
    "\n",
    "print(\"Encrypted Text is:\", result1)\n",
    "print(\"Decrypted Text is:\", result2)"
   ]
  },
  {
   "cell_type": "code",
   "execution_count": null,
   "metadata": {
    "id": "_1iQ9Kp-9z0g"
   },
   "outputs": [],
   "source": []
  }
 ],
 "metadata": {
  "colab": {
   "provenance": []
  },
  "kernelspec": {
   "display_name": "Python 3 (ipykernel)",
   "language": "python",
   "name": "python3"
  },
  "language_info": {
   "codemirror_mode": {
    "name": "ipython",
    "version": 3
   },
   "file_extension": ".py",
   "mimetype": "text/x-python",
   "name": "python",
   "nbconvert_exporter": "python",
   "pygments_lexer": "ipython3",
   "version": "3.11.5"
  }
 },
 "nbformat": 4,
 "nbformat_minor": 4
}
